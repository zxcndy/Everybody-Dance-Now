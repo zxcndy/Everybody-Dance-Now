{
 "cells": [
  {
   "cell_type": "code",
   "execution_count": 1,
   "metadata": {},
   "outputs": [],
   "source": [
    "import numpy as np\n",
    "import cv2\n",
    "import matplotlib.pyplot as plt\n",
    "import torch\n",
    "from tqdm import tqdm\n",
    "from pathlib import Path\n",
    "import os\n",
    "import warnings\n",
    "warnings.filterwarnings('ignore')\n",
    "os.environ['CUDA_VISIBLE_DEVICES'] = \"0\"\n",
    "\n",
    "openpose_dir = Path('./src/PoseEstimation/')\n",
    "\n",
    "\n",
    "save_dir = Path('./data/target/')\n",
    "save_dir.mkdir(exist_ok=True)\n",
    "\n",
    "img_dir = save_dir.joinpath('images')\n",
    "img_dir.mkdir(exist_ok=True)"
   ]
  },
  {
   "cell_type": "code",
   "execution_count": 2,
   "metadata": {},
   "outputs": [],
   "source": [
    "#create .png frames from the video\n",
    "cap = cv2.VideoCapture(str(save_dir.joinpath('target.mp4')))\n",
    "i=0\n",
    "while(cap.isOpened()):\n",
    "    flag, frame = cap.read()\n",
    "    if flag == False or i == 15:\n",
    "        break\n",
    "\n",
    "    cv2.imwrite(str(img_dir.joinpath(f'{i:05d}.png')), frame)\n",
    "    i += 1"
   ]
  },
  {
   "cell_type": "code",
   "execution_count": 4,
   "metadata": {},
   "outputs": [
    {
     "name": "stdout",
     "output_type": "stream",
     "text": [
      "load model...\n",
      "Bulding VGG19\n"
     ]
    },
    {
     "name": "stderr",
     "output_type": "stream",
     "text": [
      "100%|██████████| 15/15 [02:26<00:00, 11.17s/it]\n"
     ]
    },
    {
     "data": {
      "text/plain": [
       "<Figure size 432x288 with 0 Axes>"
      ]
     },
     "metadata": {},
     "output_type": "display_data"
    }
   ],
   "source": [
    "import sys\n",
    "sys.path.append(str(openpose_dir))\n",
    "sys.path.append('./src/utils')\n",
    "# openpose\n",
    "from rtpose_vgg import get_model\n",
    "from coco_eval import get_multiplier, get_outputs\n",
    "\n",
    "# utils\n",
    "from openpose_utils import remove_noise, get_pose\n",
    "\n",
    "weight_name = './src/PoseEstimation/network/weight/pose_model.pth'\n",
    "print('load model...')\n",
    "model = get_model('vgg19')\n",
    "model.load_state_dict(torch.load(weight_name))\n",
    "model = torch.nn.DataParallel(model).cuda()\n",
    "model.float()\n",
    "model.eval()\n",
    "pass\n",
    "\n",
    "save_dir = Path('./data/target/')\n",
    "save_dir.mkdir(exist_ok=True)\n",
    "\n",
    "img_dir = save_dir.joinpath('images')\n",
    "img_dir.mkdir(exist_ok=True)\n",
    "\n",
    "\n",
    "'''make label images for pix2pix'''\n",
    "train_dir = save_dir.joinpath('train')\n",
    "train_dir.mkdir(exist_ok=True)\n",
    "\n",
    "train_img_dir = train_dir.joinpath('train_img')\n",
    "train_img_dir.mkdir(exist_ok=True)\n",
    "train_label_dir = train_dir.joinpath('train_label')\n",
    "train_label_dir.mkdir(exist_ok=True)\n",
    "train_head_dir = train_dir.joinpath('head_img')\n",
    "train_head_dir.mkdir(exist_ok=True)\n",
    "\n",
    "pose_cords = []\n",
    "for idx in tqdm(range(len(os.listdir(str(img_dir)))-1)):\n",
    "    img_path = img_dir.joinpath('{:05}.png'.format(idx))\n",
    "    img = cv2.imread(str(img_path))\n",
    "    shape_dst = np.min(img.shape[:2])\n",
    "    oh = (img.shape[0] - shape_dst) // 2\n",
    "    ow = (img.shape[1] - shape_dst) // 2\n",
    "\n",
    "    img = img[oh:oh + shape_dst, ow:ow + shape_dst]\n",
    "    img = cv2.resize(img, (512, 512))\n",
    "    multiplier = get_multiplier(img)\n",
    "    with torch.no_grad():\n",
    "        paf, heatmap = get_outputs(multiplier, img, model, 'rtpose')\n",
    "    r_heatmap = np.array([remove_noise(ht)\n",
    "                          for ht in heatmap.transpose(2, 0, 1)[:-1]]).transpose(1, 2, 0)\n",
    "    heatmap[:, :, :-1] = r_heatmap\n",
    "    param = {'thre1': 0.1, 'thre2': 0.05, 'thre3': 0.5}\n",
    "    #TODO get_pose\n",
    "    label, cord = get_pose(param, heatmap, paf)\n",
    "    index = 13\n",
    "    crop_size = 25\n",
    "    try:\n",
    "        head_cord = cord[index]\n",
    "    except:\n",
    "        head_cord = pose_cords[-1] # if there is not head point in picture, use last frame\n",
    "\n",
    "    pose_cords.append(head_cord)\n",
    "    head = img[int(head_cord[1] - crop_size): int(head_cord[1] + crop_size),\n",
    "           int(head_cord[0] - crop_size): int(head_cord[0] + crop_size), :]\n",
    "    plt.imshow(head)\n",
    "    plt.savefig(str(train_head_dir.joinpath('pose_{}.jpg'.format(idx))))\n",
    "    plt.clf()\n",
    "    cv2.imwrite(str(train_img_dir.joinpath('{:05}.png'.format(idx))), img)\n",
    "    cv2.imwrite(str(train_label_dir.joinpath('{:05}.png'.format(idx))), label)\n",
    "\n",
    "pose_cords = np.array(pose_cords, dtype=np.int)\n",
    "np.save(str((save_dir.joinpath('pose.npy'))), pose_cords)\n",
    "torch.cuda.empty_cache()\n"
   ]
  },
  {
   "cell_type": "code",
   "execution_count": null,
   "metadata": {},
   "outputs": [],
   "source": []
  }
 ],
 "metadata": {
  "kernelspec": {
   "display_name": "Environment (conda_pytorch_p36)",
   "language": "python",
   "name": "conda_pytorch_p36"
  },
  "language_info": {
   "codemirror_mode": {
    "name": "ipython",
    "version": 3
   },
   "file_extension": ".py",
   "mimetype": "text/x-python",
   "name": "python",
   "nbconvert_exporter": "python",
   "pygments_lexer": "ipython3",
   "version": "3.6.5"
  }
 },
 "nbformat": 4,
 "nbformat_minor": 2
}
