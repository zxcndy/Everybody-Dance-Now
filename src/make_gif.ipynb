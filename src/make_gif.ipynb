{
 "cells": [
  {
   "cell_type": "code",
   "execution_count": 5,
   "metadata": {},
   "outputs": [
    {
     "name": "stderr",
     "output_type": "stream",
     "text": [
      "MovieWriter imagemagick unavailable.\n"
     ]
    }
   ],
   "source": [
    "import numpy as np\n",
    "import matplotlib.pyplot as plt\n",
    "import cv2\n",
    "from pathlib import Path\n",
    "from skimage import io\n",
    "\n",
    "import matplotlib.animation as ani\n",
    "from IPython.display import HTML\n",
    "import matplotlib\n",
    "\n",
    "source_dir = Path('./data/source/test_img')\n",
    "target_dir = Path('./results/target/test_latest/images')\n",
    "label_dir = Path('./data/source/test_label_ori')\n",
    "\n",
    "source_img_paths = sorted(source_dir.iterdir())\n",
    "target_synth_paths = sorted(target_dir.glob('*synthesized*'))\n",
    "target_label_paths = sorted(label_dir.iterdir())\n",
    "\n",
    "\n",
    "def animate(nframe):\n",
    "    ax1.clear()\n",
    "    ax2.clear()\n",
    "    ax3.clear()\n",
    "\n",
    "    source_img = io.imread(source_img_paths[nframe])\n",
    "    ax1.imshow(source_img)\n",
    "    ax1.set_xticks([])\n",
    "    ax1.set_yticks([])\n",
    "\n",
    "    target_label = io.imread(target_label_paths[nframe])\n",
    "    ax2.imshow(target_label)\n",
    "    ax2.set_xticks([])\n",
    "    ax2.set_yticks([])\n",
    "\n",
    "    target_synth = io.imread(target_synth_paths[nframe])\n",
    "    ax3.imshow(target_synth)\n",
    "    ax3.set_xticks([])\n",
    "    ax3.set_yticks([])\n",
    "\n",
    "\n",
    "fig = plt.figure(figsize=(12, 6))\n",
    "ax1 = fig.add_subplot(131)\n",
    "ax2 = fig.add_subplot(132)\n",
    "ax3 = fig.add_subplot(133)\n",
    "\n",
    "anim = ani.FuncAnimation(fig, animate, frames=len(target_label_paths), interval=1000 / 24)\n",
    "plt.close()\n",
    "\n",
    "js_anim = HTML(anim.to_jshtml())\n",
    " \n",
    "\n",
    "anim.save(\"output.gif\", writer=\"imagemagick\")"
   ]
  },
  {
   "cell_type": "code",
   "execution_count": null,
   "metadata": {},
   "outputs": [],
   "source": []
  }
 ],
 "metadata": {
  "kernelspec": {
   "display_name": "Environment (conda_pytorch_p36)",
   "language": "python",
   "name": "conda_pytorch_p36"
  },
  "language_info": {
   "codemirror_mode": {
    "name": "ipython",
    "version": 3
   },
   "file_extension": ".py",
   "mimetype": "text/x-python",
   "name": "python",
   "nbconvert_exporter": "python",
   "pygments_lexer": "ipython3",
   "version": "3.6.5"
  }
 },
 "nbformat": 4,
 "nbformat_minor": 2
}
